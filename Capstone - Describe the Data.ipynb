{
    "cells": [
        {
            "cell_type": "markdown",
            "metadata": {},
            "source": "# Capstone - Describe the Data\n## Data"
        },
        {
            "cell_type": "markdown",
            "metadata": {},
            "source": "The original dataset I will use is the called Seattle SDOT collisions Data available on Keggle: https://www.kaggle.com/jonleon/seattle-sdot-collisions-data\n\nThis is a dataset hosted by the City of Seattle. The city has an open data platform found here and they update their information according the amount of data that is brought in weekly. The timeframe for this dataset is from 2004 to Present.\n\nThe data includes all types of collisions. Collisions will display at the intersection or mid-block of a segment. "
        },
        {
            "cell_type": "markdown",
            "metadata": {},
            "source": "#### 1. Clean the data\n\nBy browsing the Data Explore on Kaggle webpage, there are missing data that would impact the training model. Therefore to exclude those rows which contain null values from key attributes in the finalized data frame is very important.  "
        },
        {
            "cell_type": "markdown",
            "metadata": {},
            "source": "#### 2. Choose the right amount of time frame and car collisions\n\nAs city develop, the road condition might change significantly. Therefore to predict the most effective severity of car collisions, the data should select as no older than 3 years.\n\nSelect rows which its 'VEHCOUNT' is at least 1."
        },
        {
            "cell_type": "markdown",
            "metadata": {},
            "source": "#### 3. Filter out the corresponding criterias\n\nSince the final goal is to predict the severity of an car collision, we only need attributes that relavent to it. \nThese are:\n\n    1. ADDRTYPE : provides collision address type\n    2. JUNCTIONTYPE : provides where did collision take place\n    3. WEATHER : usually sunny days will not cause sever injuries\n    4. ROADCOND : helpful in describing surrounding conditions\n    5. LIGHTCOND : same as above\n    6. HITPARKEDCAR : whether or not the collision involved hitting a parked car. \n    .\n    .\n    ."
        },
        {
            "cell_type": "markdown",
            "metadata": {},
            "source": "#### 4. Labeled column\n\ny is the corresponding 'SEVERITYCODE' column. The final model should predict collisions that return to these codes correctly. "
        }
    ],
    "metadata": {
        "kernelspec": {
            "display_name": "Python 3.6",
            "language": "python",
            "name": "python3"
        },
        "language_info": {
            "codemirror_mode": {
                "name": "ipython",
                "version": 3
            },
            "file_extension": ".py",
            "mimetype": "text/x-python",
            "name": "python",
            "nbconvert_exporter": "python",
            "pygments_lexer": "ipython3",
            "version": "3.6.9"
        }
    },
    "nbformat": 4,
    "nbformat_minor": 1
}