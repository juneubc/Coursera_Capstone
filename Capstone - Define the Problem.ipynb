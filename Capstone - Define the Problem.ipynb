{
    "cells": [
        {
            "cell_type": "markdown",
            "metadata": {},
            "source": "# Capstone - Define the Problem\n\n## Introduction/Business Problem"
        },
        {
            "cell_type": "markdown",
            "metadata": {},
            "source": "Car accidents happen every day at any time. Some result minor scratches of the car, some require immediate medical assistance to the scene. If an accident happens, how should we determine the severity of it hence make the most efficient response?\n\nIt is important to forecast the severity of an accident to dispatch appropriate police forces and ambulances or even fire trucks to the scene. For example, if there are pileup car accidents involving multiple injuries, the insufficient number of ambulances might lose the best timing of saving lives. By providing the on-scene description of an accident by witnesses, the call center can use the model to predict the severity of the current one, therefore provide the best help in time."
        },
        {
            "cell_type": "markdown",
            "metadata": {},
            "source": "#### My choice here is to use supervised training on a City's existing car collision data set, to produce a model that would predict the severity of an accident from a some obvious, easy to describe, key attributes."
        }
    ],
    "metadata": {
        "kernelspec": {
            "display_name": "Python 3.6",
            "language": "python",
            "name": "python3"
        },
        "language_info": {
            "codemirror_mode": {
                "name": "ipython",
                "version": 3
            },
            "file_extension": ".py",
            "mimetype": "text/x-python",
            "name": "python",
            "nbconvert_exporter": "python",
            "pygments_lexer": "ipython3",
            "version": "3.6.9"
        }
    },
    "nbformat": 4,
    "nbformat_minor": 1
}